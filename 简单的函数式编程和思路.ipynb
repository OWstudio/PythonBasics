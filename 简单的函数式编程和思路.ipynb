{
 "cells": [
  {
   "cell_type": "markdown",
   "id": "e11998a9",
   "metadata": {},
   "source": [
    "# 简单的函数式编程"
   ]
  },
  {
   "cell_type": "markdown",
   "id": "3699fe7c",
   "metadata": {},
   "source": [
    "首先我们确定一个概念: Python允许变量的存在, 所以Python不是纯函数式编程语言!\n",
    "\n",
    "然后我们再介绍一下函数式编程的一些基本概念.\n",
    "\n",
    "纯粹的函数式编程不需要变量的存在, 而函数式编程的一个特点就是可以把一个函数当做一个参数, 扔到另外一个函数里\n",
    "而且! 这个函数的输出, 也是一个函数."
   ]
  },
  {
   "cell_type": "markdown",
   "id": "a716fd2e",
   "metadata": {},
   "source": [
    "## 举一个例子: 什么是把函数传入函数里???"
   ]
  },
  {
   "cell_type": "code",
   "execution_count": 10,
   "id": "227414e7",
   "metadata": {},
   "outputs": [
    {
     "name": "stdout",
     "output_type": "stream",
     "text": [
      "The absolute sum of the two numbers will be 3\n"
     ]
    }
   ],
   "source": [
    "def AddTwoNumbers(number1, number2, function):\n",
    "    return function(number1)+function(number2)\n",
    "\n",
    "print('The absolute sum of the two numbers will be', AddTwoNumbers(-1,-2,abs))"
   ]
  },
  {
   "cell_type": "markdown",
   "id": "21f8ba50",
   "metadata": {},
   "source": [
    "在这个例子里, 我们需要注意三个问题\n",
    "1. function是你可以选择的函数, 如果我们传进去一个abs函数, 那么就返回两个绝对值的香蕉\n",
    "2. 你传进去的必须是个函数, 不能是个运算符, + - * / 都不行的!"
   ]
  },
  {
   "cell_type": "code",
   "execution_count": null,
   "id": "36875d91",
   "metadata": {},
   "outputs": [],
   "source": []
  }
 ],
 "metadata": {
  "kernelspec": {
   "display_name": "Python 3",
   "language": "python",
   "name": "python3"
  },
  "language_info": {
   "codemirror_mode": {
    "name": "ipython",
    "version": 3
   },
   "file_extension": ".py",
   "mimetype": "text/x-python",
   "name": "python",
   "nbconvert_exporter": "python",
   "pygments_lexer": "ipython3",
   "version": "3.8.8"
  }
 },
 "nbformat": 4,
 "nbformat_minor": 5
}
